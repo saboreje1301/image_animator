{
  "cells": [
    {
      "cell_type": "markdown",
      "metadata": {
        "id": "view-in-github",
        "colab_type": "text"
      },
      "source": [
        "# AnimateAI - Image to Video Animation (T4 GPU Version)\n",
        "\n",
        "This notebook allows you to run the AnimateAI application directly in Google Colab with T4 GPU acceleration.\n",
        "\n",
        "## Setup Instructions\n",
        "1. Make sure to select **Runtime > Change runtime type > Hardware accelerator > GPU** in the Colab menu.\n",
        "2. Run all cells in sequence to set up the environment and start the application.\n",
        "3. Follow the link provided at the end to access the web interface."
      ]
    },
    {
      "cell_type": "markdown",
      "metadata": {},
      "source": [
        "## 1. Check GPU Availability\n",
        "\n",
        "First, let's verify that we have access to a GPU (ideally T4)."
      ]
    },
    {
      "cell_type": "code",
      "execution_count": null,
      "metadata": {},
      "source": [
        "!nvidia-smi"
      ],
      "outputs": []
    },
    {
      "cell_type": "markdown",
      "metadata": {},
      "source": [
        "## 2. Clone the AnimateAI Repository\n",
        "\n",
        "Let's clone the repository from GitHub."
      ]
    },
    {
      "cell_type": "code",
      "execution_count": null,
      "metadata": {},
      "source": [
        "!git clone https://github.com/YOUR_USERNAME/animate-ai.git\n",
        "%cd animate-ai"
      ],
      "outputs": []
    },
    {
      "cell_type": "markdown",
      "metadata": {},
      "source": [
        "## 3. Install Dependencies\n",
        "\n",
        "Now we'll install all the required dependencies for both the web application and AI components."
      ]
    },
    {
      "cell_type": "code",
      "execution_count": null,
      "metadata": {},
      "source": [
        "# Install Python dependencies for the AI backend\n",
        "!pip install torch==2.0.1 torchvision==0.15.2 diffusers==0.23.1 transformers==4.33.2 accelerate==0.23.0 safetensors==0.3.3 imageio==2.31.5 flask==2.3.3 flask-cors==4.0.0 pillow==10.0.1 huggingface_hub==0.17.3 -q\n",
        "\n",
        "# Install Node.js and npm\n",
        "!apt-get update\n",
        "!apt-get install -y nodejs npm\n",
        "\n",
        "# Install frontend dependencies\n",
        "%cd react_template\n",
        "!npm install\n",
        "%cd .."
      ],
      "outputs": []
    },
    {
      "cell_type": "markdown",
      "metadata": {},
      "source": [
        "## 4. Build the Frontend\n",
        "\n",
        "Let's build the React application."
      ]
    },
    {
      "cell_type": "code",
      "execution_count": null,
      "metadata": {},
      "source": [
        "%cd react_template\n",
        "!npm run build\n",
        "%cd .."
      ],
      "outputs": []
    },
    {
      "cell_type": "markdown",
      "metadata": {},
      "source": [
        "## 5. Login to Hugging Face (Optional)\n",
        "\n",
        "Some models might require authentication with Hugging Face."
      ]
    },
    {
      "cell_type": "code",
      "execution_count": null,
      "metadata": {},
      "source": [
        "from huggingface_hub import notebook_login\n",
        "\n",
        "# Uncomment and run if you need to access gated models\n",
        "# notebook_login()"
      ],
      "outputs": []
    },
    {
      "cell_type": "markdown",
      "metadata": {},
      "source": [
        "## 6. Initialize the Stable Video Diffusion Model\n",
        "\n",
        "Now, let's initialize the AI model that will convert images to videos."
      ]
    },
    {
      "cell_type": "code",
      "execution_count": null,
      "metadata": {},
      "source": [
        "# Import the SVD integration module\n",
        "import sys\n",
        "sys.path.append('./colab')\n",
        "from stable_video_diffusion_integration import StableVideoDiffusionService\n",
        "\n",
        "# Initialize the SVD service - this will download the model (may take a few minutes)\n",
        "svd_service = StableVideoDiffusionService()\n",
        "svd_service.initialize()"
      ],
      "outputs": []
    },
    {
      "cell_type": "markdown",
      "metadata": {},
      "source": [
        "## 7. Create a Simple Test\n",
        "\n",
        "Let's test the model with a sample image to make sure everything is working correctly."
      ]
    },
    {
      "cell_type": "code",
      "execution_count": null,
      "metadata": {},
      "source": [
        "from IPython.display import Image, display\n",
        "import os\n",
        "import urllib.request\n",
        "\n",
        "# Create a test directory\n",
        "!mkdir -p test_images\n",
        "\n",
        "# Download a test image\n",
        "test_image_url = \"https://images.unsplash.com/photo-1581833971358-2c8b550f87b3?ixlib=rb-4.0.3&q=85&fm=jpg&crop=entropy&cs=srgb&w=1024\"\n",
        "test_image_path = \"test_images/mountain.jpg\"\n",
        "urllib.request.urlretrieve(test_image_url, test_image_path)\n",
        "\n",
        "# Display the test image\n",
        "display(Image(filename=test_image_path))\n",
        "print(\"Test image downloaded and displayed.\")"
      ],
      "outputs": []
    },
    {
      "cell_type": "code",
      "execution_count": null,
      "metadata": {},
      "source": [
        "# Generate a test video\n",
        "output_path = svd_service.generate_video(\n",
        "    image_path=test_image_path,\n",
        "    motion_strength=0.5,\n",
        "    duration=2.0,\n",
        "    fps=24\n",
        ")\n",
        "\n",
        "# Display the generated video in the notebook\n",
        "svd_service.display_video_in_notebook(output_path)"
      ],
      "outputs": []
    },
    {
      "cell_type": "markdown",
      "metadata": {},
      "source": [
        "## 8. Start the Backend API Server\n",
        "\n",
        "Now we'll start the Flask API server that will handle requests from the frontend."
      ]
    },
    {
      "cell_type": "code",
      "execution_count": null,
      "metadata": {},
      "source": [
        "# Install pyngrok to create a public URL for our API\n",
        "!pip install pyngrok -q\n",
        "\n",
        "from pyngrok import ngrok\n",
        "import threading\n",
        "from stable_video_diffusion_integration import run_api_server\n",
        "\n",
        "# Start ngrok tunnel\n",
        "public_url = ngrok.connect(5000)\n",
        "print(f\"API server will be available at: {public_url}\")\n",
        "\n",
        "# Start API server in a separate thread\n",
        "api_thread = threading.Thread(target=run_api_server, daemon=True)\n",
        "api_thread.start()\n",
        "\n",
        "# Wait for the server to start\n",
        "import time\n",
        "time.sleep(3)\n",
        "print(\"API server is now running!\")"
      ],
      "outputs": []
    },
    {
      "cell_type": "markdown",
      "metadata": {},
      "source": [
        "## 9. Serve the Frontend with API Integration\n",
        "\n",
        "Finally, we'll serve the React frontend with proper API configuration."
      ]
    },
    {
      "cell_type": "code",
      "execution_count": null,
      "metadata": {},
      "source": [
        "# Create a simple server to serve the frontend\n",
        "import http.server\n",
        "import socketserver\n",
        "import threading\n",
        "import os\n",
        "\n",
        "# Update the API URL in the frontend build\n",
        "api_url = public_url.public_url\n",
        "frontend_config = f\"\"\"\n",
        "window.API_CONFIG = {{\n",
        "  \"apiUrl\": \"{api_url}\"\n",
        "}};\n",
        "\"\"\"\n",
        "\n",
        "with open(\"react_template/dist/config.js\", \"w\") as f:\n",
        "    f.write(frontend_config)\n",
        "\n",
        "# Set up a simple HTTP server for the frontend\n",
        "class FrontendServer:\n",
        "    def __init__(self, port=8000):\n",
        "        self.port = port\n",
        "        self.httpd = None\n",
        "    \n",
        "    def start(self):\n",
        "        os.chdir(\"react_template/dist\")\n",
        "        handler = http.server.SimpleHTTPRequestHandler\n",
        "        self.httpd = socketserver.TCPServer((\"\", self.port), handler)\n",
        "        print(f\"Serving frontend at port {self.port}\")\n",
        "        self.httpd.serve_forever()\n",
        "\n",
        "# Start frontend server\n",
        "server = FrontendServer(port=8000)\n",
        "frontend_thread = threading.Thread(target=server.start, daemon=True)\n",
        "frontend_thread.start()\n",
        "\n",
        "# Create public URL for frontend\n",
        "frontend_url = ngrok.connect(8000)\n",
        "print(f\"\\n\\n✅ AnimateAI is ready! Access the web application at: {frontend_url.public_url}\\n\")"
      ],
      "outputs": []
    },
    {
      "cell_type": "markdown",
      "metadata": {},
      "source": [
        "## 10. Keep the Notebook Running\n",
        "\n",
        "Execute the cell below to prevent Colab from timing out while you use the application."
      ]
    },
    {
      "cell_type": "code",
      "execution_count": null,
      "metadata": {},
      "source": [
        "# Keep the notebook running\n",
        "import IPython\n",
        "from google.colab import output\n",
        "import time\n",
        "\n",
        "# Clear output every 60 seconds to keep the notebook running\n",
        "while True:\n",
        "    time.sleep(60)\n",
        "    output.clear()\n",
        "    IPython.display.display(IPython.display.HTML('''\n",
        "        <div style=\"background-color: #4CAF50; color: white; padding: 10px; border-radius: 5px;\">\n",
        "            AnimateAI is still running. Keep this tab open to continue using the application.\n",
        "        </div>\n",
        "    '''))"
      ],
      "outputs": []
    }
  ],
  "metadata": {
    "colab": {
      "name": "AnimateAI - Image to Video Animation (T4 GPU)",
      "provenance": [],
      "collapsed_sections": [],
      "machine_shape": "hm",
      "gpuType": "T4",
      "authorship_tag": "AnimateAI"
    },
    "kernelspec": {
      "name": "python3",
      "display_name": "Python 3"
    },
    "language_info": {
      "name": "python",
      "codemirror_mode": {
        "name": "ipython",
        "version": 3
      }
    },
    "accelerator": "GPU"
  },
  "nbformat": 4,
  "nbformat_minor": 0
}
